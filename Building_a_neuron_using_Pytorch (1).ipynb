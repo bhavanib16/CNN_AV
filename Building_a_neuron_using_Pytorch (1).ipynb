{
 "cells": [
  {
   "cell_type": "markdown",
   "id": "72142689-59ac-4297-873e-f574f10a624b",
   "metadata": {
    "id": "72142689-59ac-4297-873e-f574f10a624b"
   },
   "source": [
    "# Import the libraries"
   ]
  },
  {
   "cell_type": "code",
   "execution_count": 1,
   "id": "fad005c4-1ff4-48ad-9282-5ab460379bac",
   "metadata": {
    "id": "fad005c4-1ff4-48ad-9282-5ab460379bac"
   },
   "outputs": [],
   "source": [
    "#Import the torch library followed by torch.nn library as nn\n",
    "import torch\n",
    "import torch.nn as nn"
   ]
  },
  {
   "cell_type": "markdown",
   "id": "f067e759-2997-427f-a6a0-c348312a9068",
   "metadata": {
    "id": "f067e759-2997-427f-a6a0-c348312a9068"
   },
   "source": [
    "# Assign inputs to the neuron"
   ]
  },
  {
   "cell_type": "code",
   "execution_count": 2,
   "id": "13e0a111-bd1c-45f9-8e91-b800d22305f2",
   "metadata": {
    "id": "13e0a111-bd1c-45f9-8e91-b800d22305f2"
   },
   "outputs": [],
   "source": [
    "#Inputs to the neuron (Note: We have used random values here)\n",
    "inputs = torch.tensor ([3.0,2.0,-1.0])"
   ]
  },
  {
   "cell_type": "code",
   "execution_count": 9,
   "id": "ecbcbdd5",
   "metadata": {},
   "outputs": [
    {
     "data": {
      "text/plain": [
       "tensor([ 3.,  2., -1.])"
      ]
     },
     "execution_count": 9,
     "metadata": {},
     "output_type": "execute_result"
    }
   ],
   "source": [
    "inputs"
   ]
  },
  {
   "cell_type": "code",
   "execution_count": 10,
   "id": "1ed16c77",
   "metadata": {
    "id": "1ed16c77"
   },
   "outputs": [],
   "source": [
    "#Create a neuron with 3 features and 1 output\n",
    "neuron = nn.Linear(in_features=3,out_features=1)\n",
    "output = neuron(inputs)"
   ]
  },
  {
   "cell_type": "code",
   "execution_count": 11,
   "id": "444d9bc9",
   "metadata": {},
   "outputs": [
    {
     "data": {
      "text/plain": [
       "tensor([1.0027], grad_fn=<AddBackward0>)"
      ]
     },
     "execution_count": 11,
     "metadata": {},
     "output_type": "execute_result"
    }
   ],
   "source": [
    "output"
   ]
  },
  {
   "cell_type": "markdown",
   "id": "f4a8b559-2a75-4a2e-9178-070320dd1873",
   "metadata": {
    "id": "f4a8b559-2a75-4a2e-9178-070320dd1873"
   },
   "source": [
    "# Print the output"
   ]
  },
  {
   "cell_type": "code",
   "execution_count": 12,
   "id": "fc881dc0-bef4-4d86-bad2-21210acddb13",
   "metadata": {
    "colab": {
     "base_uri": "https://localhost:8080/"
    },
    "id": "fc881dc0-bef4-4d86-bad2-21210acddb13",
    "outputId": "3c7deb79-1530-4d71-fae4-32c82ee9358c"
   },
   "outputs": [
    {
     "name": "stdout",
     "output_type": "stream",
     "text": [
      "tensor([1.0027], grad_fn=<AddBackward0>)\n"
     ]
    }
   ],
   "source": [
    "#Print the final output of the neuron\n",
    "print (output)"
   ]
  },
  {
   "cell_type": "markdown",
   "id": "e8d82858-7938-47d5-9dc5-5c1fe180fb3e",
   "metadata": {
    "id": "e8d82858-7938-47d5-9dc5-5c1fe180fb3e"
   },
   "source": [
    "# Weight of the neuron"
   ]
  },
  {
   "cell_type": "code",
   "execution_count": 13,
   "id": "761dd9cb-c6c7-4c28-857d-3c7a82f18755",
   "metadata": {
    "colab": {
     "base_uri": "https://localhost:8080/"
    },
    "id": "761dd9cb-c6c7-4c28-857d-3c7a82f18755",
    "outputId": "73a1a54f-4a56-4a54-fe81-12d7f6a5f9a1"
   },
   "outputs": [
    {
     "data": {
      "text/plain": [
       "Parameter containing:\n",
       "tensor([[-0.2463,  0.5084, -0.3197]], requires_grad=True)"
      ]
     },
     "execution_count": 13,
     "metadata": {},
     "output_type": "execute_result"
    }
   ],
   "source": [
    "#To view the weight of the neuron\n",
    "neuron.weight"
   ]
  },
  {
   "cell_type": "markdown",
   "id": "56a0a57c-a944-4183-bbd0-b73a23cf1ae2",
   "metadata": {
    "id": "56a0a57c-a944-4183-bbd0-b73a23cf1ae2"
   },
   "source": [
    "# Bias of the neuron"
   ]
  },
  {
   "cell_type": "code",
   "execution_count": 14,
   "id": "c00a37b5-38e0-4f7e-b531-a77fc38579d4",
   "metadata": {
    "colab": {
     "base_uri": "https://localhost:8080/"
    },
    "id": "c00a37b5-38e0-4f7e-b531-a77fc38579d4",
    "outputId": "cffc6063-607c-4848-ff70-2400f936e02f"
   },
   "outputs": [
    {
     "data": {
      "text/plain": [
       "Parameter containing:\n",
       "tensor([0.4052], requires_grad=True)"
      ]
     },
     "execution_count": 14,
     "metadata": {},
     "output_type": "execute_result"
    }
   ],
   "source": [
    "#To view the bias of the neuron\n",
    "neuron.bias"
   ]
  },
  {
   "cell_type": "markdown",
   "id": "64b74aa0",
   "metadata": {},
   "source": [
    "# Perceptron"
   ]
  },
  {
   "cell_type": "code",
   "execution_count": 17,
   "id": "a05b48d1",
   "metadata": {},
   "outputs": [],
   "source": [
    "model = nn.Sequential(nn.Linear(in_features=3,out_features=1),\n",
    "    nn.ReLU(),\n",
    "    nn.Linear(in_features=1,out_features=1),\n",
    "    nn.Sigmoid())"
   ]
  },
  {
   "cell_type": "code",
   "execution_count": 65,
   "id": "6f714a11",
   "metadata": {},
   "outputs": [],
   "source": [
    "inputs = torch.tensor ([2.0,4.0,6.0]).unsqueeze(1).T"
   ]
  },
  {
   "cell_type": "code",
   "execution_count": 66,
   "id": "3c7f11d5",
   "metadata": {},
   "outputs": [
    {
     "data": {
      "text/plain": [
       "torch.Size([1, 3])"
      ]
     },
     "execution_count": 66,
     "metadata": {},
     "output_type": "execute_result"
    }
   ],
   "source": [
    "inputs.shape"
   ]
  },
  {
   "cell_type": "code",
   "execution_count": 67,
   "id": "4b91511f",
   "metadata": {},
   "outputs": [],
   "source": [
    "y_pred=model(inputs)"
   ]
  },
  {
   "cell_type": "code",
   "execution_count": 68,
   "id": "75e4be4f",
   "metadata": {},
   "outputs": [
    {
     "data": {
      "text/plain": [
       "tensor([[0.6865]], grad_fn=<SigmoidBackward0>)"
      ]
     },
     "execution_count": 68,
     "metadata": {},
     "output_type": "execute_result"
    }
   ],
   "source": [
    "y_pred"
   ]
  },
  {
   "cell_type": "code",
   "execution_count": 69,
   "id": "c1caf33d",
   "metadata": {},
   "outputs": [
    {
     "data": {
      "text/plain": [
       "[('0.weight',\n",
       "  Parameter containing:\n",
       "  tensor([[ 0.5720, -0.2777, -0.4892]], requires_grad=True)),\n",
       " ('0.bias',\n",
       "  Parameter containing:\n",
       "  tensor([-0.1634], requires_grad=True)),\n",
       " ('2.weight',\n",
       "  Parameter containing:\n",
       "  tensor([[-0.8033]], requires_grad=True)),\n",
       " ('2.bias',\n",
       "  Parameter containing:\n",
       "  tensor([0.7838], requires_grad=True))]"
      ]
     },
     "execution_count": 69,
     "metadata": {},
     "output_type": "execute_result"
    }
   ],
   "source": [
    "list(model.named_parameters())"
   ]
  },
  {
   "cell_type": "code",
   "execution_count": 70,
   "id": "9021f1b4",
   "metadata": {},
   "outputs": [
    {
     "data": {
      "text/plain": [
       "Sequential(\n",
       "  (0): Linear(in_features=3, out_features=1, bias=True)\n",
       "  (1): ReLU()\n",
       "  (2): Linear(in_features=1, out_features=1, bias=True)\n",
       "  (3): Sigmoid()\n",
       ")"
      ]
     },
     "execution_count": 70,
     "metadata": {},
     "output_type": "execute_result"
    }
   ],
   "source": [
    "model.eval()"
   ]
  },
  {
   "cell_type": "code",
   "execution_count": 71,
   "id": "d75bbb77",
   "metadata": {},
   "outputs": [],
   "source": [
    "import torch.optim as optim"
   ]
  },
  {
   "cell_type": "code",
   "execution_count": 72,
   "id": "27ef882b",
   "metadata": {},
   "outputs": [],
   "source": [
    "criterion_bce = nn.BCELoss()\n",
    "learning_rate = 0.001\n",
    "optimizer = optim.Adam(model.parameters(), lr=learning_rate)"
   ]
  },
  {
   "cell_type": "code",
   "execution_count": 94,
   "id": "d11abdf7",
   "metadata": {},
   "outputs": [],
   "source": [
    "y_actual=torch.tensor([1],dtype=torch.float32).unsqueeze(1)"
   ]
  },
  {
   "cell_type": "code",
   "execution_count": 95,
   "id": "df03c813",
   "metadata": {},
   "outputs": [
    {
     "data": {
      "text/plain": [
       "tensor([[1.]])"
      ]
     },
     "execution_count": 95,
     "metadata": {},
     "output_type": "execute_result"
    }
   ],
   "source": [
    "y_actual"
   ]
  },
  {
   "cell_type": "code",
   "execution_count": 96,
   "id": "e759dbcc",
   "metadata": {},
   "outputs": [
    {
     "name": "stdout",
     "output_type": "stream",
     "text": [
      "Epoch 1/1, Loss: 0.3755\n"
     ]
    }
   ],
   "source": [
    "epochs = 1\n",
    "for epoch in range(epochs):\n",
    "    model.train()\n",
    "    y_pred = model(inputs)\n",
    "    loss = criterion_bce(y_pred, y_actual)\n",
    "    loss.backward()\n",
    "    optimizer.step()\n",
    "\n",
    "    print(f\"Epoch {epoch+1}/{epochs}, Loss: {loss.item():.4f}\")"
   ]
  },
  {
   "cell_type": "code",
   "execution_count": 97,
   "id": "f3ad82ec",
   "metadata": {},
   "outputs": [],
   "source": [
    "y_pred_probs = model(X_test_tensor).unsqueeze(1)\n",
    "y_pred = (y_pred_probs > 0.5)"
   ]
  },
  {
   "cell_type": "code",
   "execution_count": 98,
   "id": "f7c79910",
   "metadata": {},
   "outputs": [
    {
     "data": {
      "text/plain": [
       "tensor([[0.6298]], grad_fn=<UnsqueezeBackward0>)"
      ]
     },
     "execution_count": 98,
     "metadata": {},
     "output_type": "execute_result"
    }
   ],
   "source": [
    "y_pred_probs"
   ]
  },
  {
   "cell_type": "code",
   "execution_count": null,
   "id": "124c43fd",
   "metadata": {},
   "outputs": [],
   "source": []
  }
 ],
 "metadata": {
  "colab": {
   "provenance": []
  },
  "kernelspec": {
   "display_name": "Python 3 (ipykernel)",
   "language": "python",
   "name": "python3"
  },
  "language_info": {
   "codemirror_mode": {
    "name": "ipython",
    "version": 3
   },
   "file_extension": ".py",
   "mimetype": "text/x-python",
   "name": "python",
   "nbconvert_exporter": "python",
   "pygments_lexer": "ipython3",
   "version": "3.12.6"
  }
 },
 "nbformat": 4,
 "nbformat_minor": 5
}
